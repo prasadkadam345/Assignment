{
 "cells": [
  {
   "cell_type": "markdown",
   "id": "00babe85",
   "metadata": {},
   "source": [
    "1.What are the two values of the Boolean data type? How do you write them?\n",
    "\n",
    "True and False \n",
    "First letter is capital\n"
   ]
  },
  {
   "cell_type": "markdown",
   "id": "78d87dfc",
   "metadata": {},
   "source": [
    "2. What are the three different types of Boolean operators?\n",
    "\n",
    "NOT AND OR"
   ]
  },
  {
   "cell_type": "markdown",
   "id": "5983d3f7",
   "metadata": {},
   "source": [
    "\n",
    "3. Make a list of each Boolean operator's truth tables (i.e. every possible combination of Boolean values for the operator and what it evaluate ).\n",
    "\n",
    "condition 1\n",
    "\tcondition 2\n",
    "\t\n",
    "\t\n",
    "\t                      NOT X    X AND Y           X OR Y\n",
    "(e.g., X) (e.g., Y)     ( ~ X )   ( X && Y )        ( X || Y )\n",
    "false\t false\t          true\t    false\t         false\n",
    "false\t true\t          true\t    false\t         true\n",
    "true\t false\t          false\t    false\t         true\n",
    "true\t true\t          false\t    true\t         true\n",
    "\n",
    "\n"
   ]
  },
  {
   "cell_type": "markdown",
   "id": "61ab7c2c",
   "metadata": {},
   "source": [
    "\n",
    "\n",
    "4. What are the values of the following expressions?\n",
    "(5 > 4) and (3 == 5)                 answer False\n",
    "not (5 > 4)                          answer False\n",
    "(5 > 4) or (3 == 5)                  answer True\n",
    "not ((5 > 4) or (3 == 5))            answer False\n",
    "(True and True) and (True == False)  answer False\n",
    "(not False) or (not True)            answer True\n",
    "\n"
   ]
  },
  {
   "cell_type": "markdown",
   "id": "1fbd664f",
   "metadata": {},
   "source": [
    "5. What are the six comparison operators?\n",
    "\n",
    "Python has six comparison operators, which are as follows:\n",
    "\n",
    "Less than ( < )\n",
    "Less than or equal to (<=)\n",
    "Greater than (>)\n",
    "Greater than or equal to (>=)\n",
    "Equal to ( == )\n",
    "Not equal to ( != )\n"
   ]
  },
  {
   "cell_type": "markdown",
   "id": "d726c368",
   "metadata": {},
   "source": [
    "\n",
    "6. How do you tell the difference between the equal to and assignment operators?Describe a condition and when you would use one.\n",
    "\n",
    "assignment operator assigns the value to variable which is =\n",
    "\n",
    "Equal to operator compares whether values are same or not ==\n"
   ]
  },
  {
   "cell_type": "markdown",
   "id": "10341dfe",
   "metadata": {},
   "source": [
    "\n",
    "7. Identify the three blocks in this code:\n",
    "spam = 0\n",
    "\n",
    "if spam == 10:\n",
    "    print('eggs')\n",
    "\n",
    "if spam > 5:\n",
    "    print('bacon')\n",
    "else:\n",
    "    print('ham')\n",
    "    \n",
    "print('spam')\n",
    "print('spam')\n"
   ]
  },
  {
   "cell_type": "code",
   "execution_count": 15,
   "id": "23eb29db",
   "metadata": {},
   "outputs": [
    {
     "name": "stdout",
     "output_type": "stream",
     "text": [
      "Greetings!\n"
     ]
    }
   ],
   "source": [
    "\n",
    "'''8. Write code that prints Hello if 1 is stored in spam, prints Howdy if 2 is stored in spam, and prints Greetings! \n",
    "if anything else is stored in spam.'''\n",
    "spam = None\n",
    "if spam == 1:\n",
    "    print(\"Hello\")\n",
    "elif spam == 2:\n",
    "    print (\"Howdy\")\n",
    "else:\n",
    "    print('Greetings!')\n"
   ]
  },
  {
   "cell_type": "markdown",
   "id": "61e2b8f7",
   "metadata": {},
   "source": [
    "\n",
    "9.If your programme is stuck in an endless loop, what keys you’ll press?\n",
    "i will use shortkey for kernel to intruupt and restart \n"
   ]
  },
  {
   "cell_type": "markdown",
   "id": "d6fbcf58",
   "metadata": {},
   "source": [
    "10. How can you tell the difference between break and continue?\n",
    "\n",
    "Break will break out of loop \n",
    "whereas continue will skip that condition and reiterates for further values"
   ]
  },
  {
   "cell_type": "markdown",
   "id": "93965806",
   "metadata": {},
   "source": [
    "\n",
    "11. In a for loop, what is the difference between range(10), range(0, 10), and range(0, 10, 1)?\n",
    "\n",
    "they are all same just more arguments are passed for range generator output for all is same \n",
    "it iterates from 0 to 9 with step size of 1 "
   ]
  },
  {
   "cell_type": "code",
   "execution_count": 22,
   "id": "e3999641",
   "metadata": {},
   "outputs": [
    {
     "name": "stdout",
     "output_type": "stream",
     "text": [
      "1\n",
      "2\n",
      "3\n",
      "4\n",
      "5\n",
      "6\n",
      "7\n",
      "8\n",
      "9\n",
      "10\n",
      "\n",
      "1\n",
      "2\n",
      "3\n",
      "4\n",
      "5\n",
      "6\n",
      "7\n",
      "8\n",
      "9\n",
      "10\n"
     ]
    }
   ],
   "source": [
    "\n",
    "'''12. Write a short program that prints the numbers 1 to 10 using a for loop.\n",
    "Then write an equivalent program that prints the numbers 1 to 10 using a while loop.'''\n",
    "\n",
    "for i in range(1,11):\n",
    "    print(i)\n",
    "print('')\n",
    "\n",
    "i =0\n",
    "while (i<10):\n",
    "    i= i +1\n",
    "    print(i)"
   ]
  },
  {
   "cell_type": "markdown",
   "id": "09ea63cd",
   "metadata": {},
   "source": [
    "13. If you had a function named bacon() inside a module named spam, how would you call it after importing spam?\n",
    "\n",
    "import spam as sp\n",
    "\n",
    "sp.bacon()"
   ]
  }
 ],
 "metadata": {
  "kernelspec": {
   "display_name": "Python 3",
   "language": "python",
   "name": "python3"
  },
  "language_info": {
   "codemirror_mode": {
    "name": "ipython",
    "version": 3
   },
   "file_extension": ".py",
   "mimetype": "text/x-python",
   "name": "python",
   "nbconvert_exporter": "python",
   "pygments_lexer": "ipython3",
   "version": "3.8.8"
  }
 },
 "nbformat": 4,
 "nbformat_minor": 5
}
