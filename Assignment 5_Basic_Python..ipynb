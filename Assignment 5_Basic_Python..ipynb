{
 "cells": [
  {
   "cell_type": "code",
   "execution_count": null,
   "id": "38411249",
   "metadata": {},
   "outputs": [],
   "source": [
    "1. What does an empty dictionary's code look like?\n",
    "\n",
    "dict = {}"
   ]
  },
  {
   "cell_type": "code",
   "execution_count": null,
   "id": "cfd90ef1",
   "metadata": {},
   "outputs": [],
   "source": [
    "2. What is the value of a dictionary value with the key 'foo' and the value 42?\n",
    "\n",
    "dict = {'foo':42}"
   ]
  },
  {
   "cell_type": "code",
   "execution_count": null,
   "id": "631622e2",
   "metadata": {},
   "outputs": [],
   "source": [
    "3. What is the most significant distinction between a dictionary and a list?\n",
    "\n",
    "Dictionary is set of key value pairs whereas list is simply consists of values , "
   ]
  },
  {
   "cell_type": "code",
   "execution_count": null,
   "id": "43755871",
   "metadata": {},
   "outputs": [],
   "source": [
    "4. What happens if you try to access spam['foo'] if spam is {'bar': 100}?\n",
    "there will be keyerror\n"
   ]
  },
  {
   "cell_type": "code",
   "execution_count": null,
   "id": "2a7372c4",
   "metadata": {},
   "outputs": [],
   "source": [
    "5. If a dictionary is stored in spam, what is the difference between the expressions 'cat' in spam and 'cat' in spam.keys()?\n",
    "both are same "
   ]
  },
  {
   "cell_type": "code",
   "execution_count": 1,
   "id": "8a6d362b",
   "metadata": {},
   "outputs": [],
   "source": [
    "6. If a dictionary is stored in spam, what is the difference between the expressions 'cat' in spam and 'cat' in spam.values()?\n",
    "first expression gives result True and where as other statement gives false result "
   ]
  },
  {
   "cell_type": "code",
   "execution_count": 3,
   "id": "d712382e",
   "metadata": {},
   "outputs": [],
   "source": [
    "7. What is a shortcut for the following code?\n",
    "if 'color' not in spam:\n",
    "spam['color'] = 'black'\n",
    "\n",
    "Dont know answer sorry comment pls "
   ]
  },
  {
   "cell_type": "code",
   "execution_count": 13,
   "id": "b6369e15",
   "metadata": {},
   "outputs": [],
   "source": [
    "8. How do you \"pretty print\" dictionary values using which module and function?\n",
    "\n",
    "dict.values()"
   ]
  },
  {
   "cell_type": "code",
   "execution_count": 21,
   "id": "ee43ca39",
   "metadata": {},
   "outputs": [],
   "source": [
    "spam={'cat':546,'dog':5464}"
   ]
  },
  {
   "cell_type": "code",
   "execution_count": 27,
   "id": "8c2072e6",
   "metadata": {},
   "outputs": [],
   "source": [
    "spam['cat'] = 123"
   ]
  },
  {
   "cell_type": "code",
   "execution_count": 28,
   "id": "4fd4c098",
   "metadata": {},
   "outputs": [
    {
     "data": {
      "text/plain": [
       "{'cat': 123, 'dog': 5464}"
      ]
     },
     "execution_count": 28,
     "metadata": {},
     "output_type": "execute_result"
    }
   ],
   "source": [
    "spam"
   ]
  },
  {
   "cell_type": "code",
   "execution_count": null,
   "id": "9ea4925d",
   "metadata": {},
   "outputs": [],
   "source": []
  }
 ],
 "metadata": {
  "kernelspec": {
   "display_name": "Python 3",
   "language": "python",
   "name": "python3"
  },
  "language_info": {
   "codemirror_mode": {
    "name": "ipython",
    "version": 3
   },
   "file_extension": ".py",
   "mimetype": "text/x-python",
   "name": "python",
   "nbconvert_exporter": "python",
   "pygments_lexer": "ipython3",
   "version": "3.8.8"
  }
 },
 "nbformat": 4,
 "nbformat_minor": 5
}
