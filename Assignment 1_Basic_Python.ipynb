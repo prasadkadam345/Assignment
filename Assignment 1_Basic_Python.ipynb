{
 "cells": [
  {
   "cell_type": "code",
   "execution_count": null,
   "id": "f071f3e0",
   "metadata": {},
   "outputs": [],
   "source": []
  },
  {
   "cell_type": "raw",
   "id": "742e5b5f",
   "metadata": {},
   "source": [
    "1. In the below elements which of them are values or an expression? eg:- values can be integer or string and expressions will be mathematical operators.\n",
    "\n",
    "*                   == Multiplication Operator\n",
    "'hello'             == String\n",
    "-87.8               == Floating Type Value\n",
    "-                   == Minus Operator\n",
    "/                   == Division Operator \n",
    "+\t                == Addition Operator\n",
    "6                   == Integer Value"
   ]
  },
  {
   "cell_type": "raw",
   "id": "41ec926a",
   "metadata": {},
   "source": [
    "2. What is the difference between string and variable?\n",
    "\n",
    "Variable can store mutliple data set like string number Boolean \n",
    "\n",
    "String unlike variable has single data type \n",
    "\n",
    "Variable is stored in RAM can be called as when required/pointed to memory location in RAM , \n",
    "\n",
    "whereas String is static \n",
    "\n",
    "\n",
    "for Python string is represented in single or double quotes whereas Variable dont require quotes\n",
    "\n",
    "There are specific rules for variable names in python there are no rules for string unless or untill mentioned in quotes "
   ]
  },
  {
   "cell_type": "raw",
   "id": "79f8076d",
   "metadata": {},
   "source": [
    "3. Describe three different data types.\n",
    "\n",
    "There below no of data types in Python vategorised based on kind of value held by them\n",
    "1. Integer         : Holds Integer Value\n",
    "2. String          : Holds string\n",
    "3. Floating        : Holds number which has decimal   \n",
    "4. Complex Number  : Holds number real and imaginary number \n",
    "5. Boolean         : Holds 0 or 1 value \n"
   ]
  },
  {
   "cell_type": "raw",
   "id": "f3f31a4d",
   "metadata": {},
   "source": [
    "4. What is an expression made up of? What do all expressions do?\n",
    "\n",
    "An expression is a combination of values, variables, operators, and calls to functions. Expressions need to be evaluated. If you ask Python to print an expression, the interpreter evaluates the expression and displays the result."
   ]
  },
  {
   "cell_type": "raw",
   "id": "4e6dcdf7",
   "metadata": {},
   "source": [
    "5. This assignment statements, like spam = 10. What is the difference between an expression and a statement?\n",
    "\n",
    "A statement does something. Statements represent an action or command e.g print statements, assignment statements. Expression is a combination of variables, operations and values that yields a result value. ... If you ask Python to print an expression, the interpreter evaluates the expression and displays the result.\n"
   ]
  },
  {
   "cell_type": "raw",
   "id": "153fe787",
   "metadata": {},
   "source": [
    "6. After running the following code, what does the variable bacon contain?\n",
    "bacon = 22\n",
    "bacon + 1\n",
    "\n",
    "Answer :  22"
   ]
  },
  {
   "cell_type": "raw",
   "id": "c6589e3e",
   "metadata": {},
   "source": [
    "7. What should the values of the following two terms be?\n",
    "'spam' + 'spamspam'  answer : 'spamspamspam'\n",
    "'spam' * 3           answer : 'spamspamspam'        \n"
   ]
  },
  {
   "cell_type": "raw",
   "id": "27b0836e",
   "metadata": {},
   "source": [
    "8. Why is eggs a valid variable name while 100 is invalid?\n",
    "\n",
    "100 is integer value and integer value can not be a variable \n",
    "\n",
    "whereas 100_eggs is valid variable "
   ]
  },
  {
   "cell_type": "raw",
   "id": "3f2c33d0",
   "metadata": {},
   "source": [
    "9. What three functions can be used to get the integer, floating-point number, or string version of a value?\n",
    "\n",
    "int()\n",
    "str()\n",
    "float()"
   ]
  },
  {
   "cell_type": "raw",
   "id": "3403ad8b",
   "metadata": {},
   "source": [
    "10. Why does this expression cause an error? How can you fix it?\n",
    "'I have eaten ' + 99 + ' burritos.'\n",
    "\n",
    "\n",
    "99 is integer which can not concatenated \n",
    "\n",
    "to fix it integer 99 has to be str(99) and then concatenate "
   ]
  },
  {
   "cell_type": "code",
   "execution_count": null,
   "id": "d93622bc",
   "metadata": {},
   "outputs": [],
   "source": []
  }
 ],
 "metadata": {
  "kernelspec": {
   "display_name": "Python 3",
   "language": "python",
   "name": "python3"
  },
  "language_info": {
   "codemirror_mode": {
    "name": "ipython",
    "version": 3
   },
   "file_extension": ".py",
   "mimetype": "text/x-python",
   "name": "python",
   "nbconvert_exporter": "python",
   "pygments_lexer": "ipython3",
   "version": "3.8.8"
  }
 },
 "nbformat": 4,
 "nbformat_minor": 5
}
