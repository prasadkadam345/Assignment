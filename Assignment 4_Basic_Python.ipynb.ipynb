{
 "cells": [
  {
   "cell_type": "code",
   "execution_count": 1,
   "id": "e8775a05",
   "metadata": {},
   "outputs": [
    {
     "data": {
      "text/plain": [
       "'1. What exactly is []?\\n\\nlist'"
      ]
     },
     "execution_count": 1,
     "metadata": {},
     "output_type": "execute_result"
    }
   ],
   "source": [
    "'''1. What exactly is []?\n",
    "\n",
    "list''' \n"
   ]
  },
  {
   "cell_type": "code",
   "execution_count": 12,
   "id": "19fe5e61",
   "metadata": {},
   "outputs": [
    {
     "data": {
      "text/plain": [
       "[2, 4, 'hello', 6, 8, 10]"
      ]
     },
     "execution_count": 12,
     "metadata": {},
     "output_type": "execute_result"
    }
   ],
   "source": [
    "\n",
    "'''2. In a list of values stored in a variable called spam, \n",
    "how would you assign the value 'hello' as the third value? (Assume [2, 4, 6, 8, 10] are in spam.)\n",
    "\n",
    " \n",
    "Let's pretend the spam includes the list ['a', 'b', 'c', 'd'] for the next three queries. '''\n",
    "\n",
    "spam= [2, 4, 6, 8, 10]\n",
    "spam.insert(2,'hello')\n",
    "spam"
   ]
  },
  {
   "cell_type": "code",
   "execution_count": 19,
   "id": "d68d5abc",
   "metadata": {},
   "outputs": [
    {
     "data": {
      "text/plain": [
       "6"
      ]
     },
     "execution_count": 19,
     "metadata": {},
     "output_type": "execute_result"
    }
   ],
   "source": [
    "spam=['a', 'b', 'c', 'd']\n",
    "'''3. What is the value of spam[int(int('3' * 2) / 11)]?'''\n",
    "answer is d considering list from above "
   ]
  },
  {
   "cell_type": "code",
   "execution_count": 20,
   "id": "a3814589",
   "metadata": {},
   "outputs": [
    {
     "data": {
      "text/plain": [
       "10"
      ]
     },
     "execution_count": 20,
     "metadata": {},
     "output_type": "execute_result"
    }
   ],
   "source": [
    "'''4. What is the value of spam[-1]?'''\n",
    "d"
   ]
  },
  {
   "cell_type": "code",
   "execution_count": null,
   "id": "33202656",
   "metadata": {},
   "outputs": [],
   "source": [
    "\n",
    "'''5. What is the value of spam[:2]?'''\n",
    "'c'"
   ]
  },
  {
   "cell_type": "code",
   "execution_count": 23,
   "id": "d06ce0b7",
   "metadata": {},
   "outputs": [
    {
     "data": {
      "text/plain": [
       "1"
      ]
     },
     "execution_count": 23,
     "metadata": {},
     "output_type": "execute_result"
    }
   ],
   "source": [
    "\n",
    "'''Let's pretend bacon has the list [3.14, 'cat,' 11, 'cat,' True] for the next three questions.\n",
    "6. What is the value of bacon.index('cat')?'''\n",
    "\n",
    "bacon=[3.14, 'cat', 11, 'cat', True]\n",
    "bacon.index('cat')\n"
   ]
  },
  {
   "cell_type": "code",
   "execution_count": null,
   "id": "49b71635",
   "metadata": {},
   "outputs": [],
   "source": [
    "'''7. How does bacon.append(99) change the look of the list value in bacon?'''\n",
    "\n",
    "will add 99 at end of list "
   ]
  },
  {
   "cell_type": "code",
   "execution_count": 28,
   "id": "78d1a474",
   "metadata": {},
   "outputs": [
    {
     "data": {
      "text/plain": [
       "[3.14, 11, True]"
      ]
     },
     "execution_count": 28,
     "metadata": {},
     "output_type": "execute_result"
    }
   ],
   "source": [
    "'''8. How does bacon.remove('cat') change the look of the list in bacon?'''\n",
    "bacon=[3.14, 'cat', 11, 'cat', True]\n",
    "bacon.pop(1)\n",
    "bacon.pop(2)\n",
    "bacon"
   ]
  },
  {
   "cell_type": "code",
   "execution_count": 32,
   "id": "e5fa2455",
   "metadata": {},
   "outputs": [
    {
     "data": {
      "text/plain": [
       "[3.14, 11, True, 3.14, 11, True]"
      ]
     },
     "execution_count": 32,
     "metadata": {},
     "output_type": "execute_result"
    }
   ],
   "source": [
    "'''9. What are the list concatenation and list replication operators?'''\n",
    "\n",
    "a=bacon+spam\n",
    "a\n",
    "b=bacon*2\n",
    "b\n",
    "\n",
    "'''+ operator to concatenate whereas * for replication'''"
   ]
  },
  {
   "cell_type": "code",
   "execution_count": null,
   "id": "5fe333e2",
   "metadata": {},
   "outputs": [],
   "source": [
    "'''10. What is difference between the list methods append() and insert()?'''\n",
    "append adds value at end of list whereas insert will add based on index postion which has been given as an argument\n",
    "\n"
   ]
  },
  {
   "cell_type": "code",
   "execution_count": null,
   "id": "595870c6",
   "metadata": {},
   "outputs": [],
   "source": [
    "11. What are the two methods for removing items from a list?\n",
    ".pop and replace()"
   ]
  },
  {
   "cell_type": "code",
   "execution_count": null,
   "id": "1c8eb96e",
   "metadata": {},
   "outputs": [],
   "source": []
  },
  {
   "cell_type": "code",
   "execution_count": null,
   "id": "f75e178e",
   "metadata": {},
   "outputs": [],
   "source": [
    "12. Describe how list values and string values are identical.\n",
    "we can index string so do the list we can iterate string as well as list"
   ]
  },
  {
   "cell_type": "code",
   "execution_count": null,
   "id": "63aa6873",
   "metadata": {},
   "outputs": [],
   "source": [
    "13. What's the difference between tuples and lists?\n",
    "Tuples are immutable and list is mutable"
   ]
  },
  {
   "cell_type": "code",
   "execution_count": null,
   "id": "d3fe80c6",
   "metadata": {},
   "outputs": [],
   "source": [
    "14. How do you type a tuple value that only contains the integer 42?\n",
    "\n",
    "(42)\n"
   ]
  },
  {
   "cell_type": "code",
   "execution_count": null,
   "id": "e4758858",
   "metadata": {},
   "outputs": [],
   "source": [
    "15. How do you get a list value's tuple form? How do you get a tuple value's list form?\n",
    "\n",
    "list(tuple)\n",
    "tuple(list)"
   ]
  },
  {
   "cell_type": "code",
   "execution_count": null,
   "id": "9524f548",
   "metadata": {},
   "outputs": [],
   "source": [
    "16. Variables that \"contain\" list values are not necessarily lists themselves. Instead, what do they contain?\n",
    "Variables will contain references to list values rather than list values themselves\n"
   ]
  },
  {
   "cell_type": "code",
   "execution_count": null,
   "id": "ecdefc92",
   "metadata": {},
   "outputs": [],
   "source": [
    "17. How do you distinguish between copy.copy() and copy.deepcopy()?\n",
    "dont know "
   ]
  }
 ],
 "metadata": {
  "kernelspec": {
   "display_name": "Python 3",
   "language": "python",
   "name": "python3"
  },
  "language_info": {
   "codemirror_mode": {
    "name": "ipython",
    "version": 3
   },
   "file_extension": ".py",
   "mimetype": "text/x-python",
   "name": "python",
   "nbconvert_exporter": "python",
   "pygments_lexer": "ipython3",
   "version": "3.8.8"
  }
 },
 "nbformat": 4,
 "nbformat_minor": 5
}
